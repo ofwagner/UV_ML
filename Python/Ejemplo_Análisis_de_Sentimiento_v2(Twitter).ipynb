{
  "nbformat": 4,
  "nbformat_minor": 0,
  "metadata": {
    "colab": {
      "provenance": []
    },
    "kernelspec": {
      "name": "python3",
      "display_name": "Python 3"
    },
    "language_info": {
      "name": "python"
    }
  },
  "cells": [
    {
      "cell_type": "markdown",
      "metadata": {
        "id": "na3vOMQseGNx"
      },
      "source": [
        "https://towardsdatascience.com/step-by-step-twitter-sentiment-analysis-in-python-d6f650ade58d"
      ]
    },
    {
      "cell_type": "code",
      "metadata": {
        "colab": {
          "base_uri": "https://localhost:8080/"
        },
        "id": "tQ2xrqFicqrR",
        "outputId": "4a37be0a-1d94-4db7-a406-6ad0605070da"
      },
      "source": [
        "# Install Libraries\n",
        "!pip install textblob\n",
        "!pip install tweepy\n",
        "!pip install pycountry\n",
        "!pip install langdetect"
      ],
      "execution_count": 1,
      "outputs": [
        {
          "output_type": "stream",
          "name": "stdout",
          "text": [
            "Looking in indexes: https://pypi.org/simple, https://us-python.pkg.dev/colab-wheels/public/simple/\n",
            "Requirement already satisfied: textblob in /usr/local/lib/python3.8/dist-packages (0.15.3)\n",
            "Requirement already satisfied: nltk>=3.1 in /usr/local/lib/python3.8/dist-packages (from textblob) (3.7)\n",
            "Requirement already satisfied: click in /usr/local/lib/python3.8/dist-packages (from nltk>=3.1->textblob) (7.1.2)\n",
            "Requirement already satisfied: regex>=2021.8.3 in /usr/local/lib/python3.8/dist-packages (from nltk>=3.1->textblob) (2022.6.2)\n",
            "Requirement already satisfied: tqdm in /usr/local/lib/python3.8/dist-packages (from nltk>=3.1->textblob) (4.64.1)\n",
            "Requirement already satisfied: joblib in /usr/local/lib/python3.8/dist-packages (from nltk>=3.1->textblob) (1.2.0)\n",
            "Looking in indexes: https://pypi.org/simple, https://us-python.pkg.dev/colab-wheels/public/simple/\n",
            "Requirement already satisfied: tweepy in /usr/local/lib/python3.8/dist-packages (3.10.0)\n",
            "Requirement already satisfied: requests[socks]>=2.11.1 in /usr/local/lib/python3.8/dist-packages (from tweepy) (2.23.0)\n",
            "Requirement already satisfied: requests-oauthlib>=0.7.0 in /usr/local/lib/python3.8/dist-packages (from tweepy) (1.3.1)\n",
            "Requirement already satisfied: six>=1.10.0 in /usr/local/lib/python3.8/dist-packages (from tweepy) (1.15.0)\n",
            "Requirement already satisfied: oauthlib>=3.0.0 in /usr/local/lib/python3.8/dist-packages (from requests-oauthlib>=0.7.0->tweepy) (3.2.2)\n",
            "Requirement already satisfied: certifi>=2017.4.17 in /usr/local/lib/python3.8/dist-packages (from requests[socks]>=2.11.1->tweepy) (2022.9.24)\n",
            "Requirement already satisfied: idna<3,>=2.5 in /usr/local/lib/python3.8/dist-packages (from requests[socks]>=2.11.1->tweepy) (2.10)\n",
            "Requirement already satisfied: chardet<4,>=3.0.2 in /usr/local/lib/python3.8/dist-packages (from requests[socks]>=2.11.1->tweepy) (3.0.4)\n",
            "Requirement already satisfied: urllib3!=1.25.0,!=1.25.1,<1.26,>=1.21.1 in /usr/local/lib/python3.8/dist-packages (from requests[socks]>=2.11.1->tweepy) (1.24.3)\n",
            "Requirement already satisfied: PySocks!=1.5.7,>=1.5.6 in /usr/local/lib/python3.8/dist-packages (from requests[socks]>=2.11.1->tweepy) (1.7.1)\n",
            "Looking in indexes: https://pypi.org/simple, https://us-python.pkg.dev/colab-wheels/public/simple/\n",
            "Collecting pycountry\n",
            "  Downloading pycountry-22.3.5.tar.gz (10.1 MB)\n",
            "\u001b[K     |████████████████████████████████| 10.1 MB 4.0 MB/s \n",
            "\u001b[?25h  Installing build dependencies ... \u001b[?25l\u001b[?25hdone\n",
            "  Getting requirements to build wheel ... \u001b[?25l\u001b[?25hdone\n",
            "    Preparing wheel metadata ... \u001b[?25l\u001b[?25hdone\n",
            "Requirement already satisfied: setuptools in /usr/local/lib/python3.8/dist-packages (from pycountry) (57.4.0)\n",
            "Building wheels for collected packages: pycountry\n",
            "  Building wheel for pycountry (PEP 517) ... \u001b[?25l\u001b[?25hdone\n",
            "  Created wheel for pycountry: filename=pycountry-22.3.5-py2.py3-none-any.whl size=10681845 sha256=44e916b5ca275a9cb6db97ea4fbb5b1f8170868808215147f26d6a38c0d65238\n",
            "  Stored in directory: /root/.cache/pip/wheels/e2/aa/0f/c224e473b464387170b83ca7c66947b4a7e33e8d903a679748\n",
            "Successfully built pycountry\n",
            "Installing collected packages: pycountry\n",
            "Successfully installed pycountry-22.3.5\n",
            "Looking in indexes: https://pypi.org/simple, https://us-python.pkg.dev/colab-wheels/public/simple/\n",
            "Collecting langdetect\n",
            "  Downloading langdetect-1.0.9.tar.gz (981 kB)\n",
            "\u001b[K     |████████████████████████████████| 981 kB 7.1 MB/s \n",
            "\u001b[?25hRequirement already satisfied: six in /usr/local/lib/python3.8/dist-packages (from langdetect) (1.15.0)\n",
            "Building wheels for collected packages: langdetect\n",
            "  Building wheel for langdetect (setup.py) ... \u001b[?25l\u001b[?25hdone\n",
            "  Created wheel for langdetect: filename=langdetect-1.0.9-py3-none-any.whl size=993242 sha256=56db167215e79d7114d9b289762220b83d866380ce1fd305cb5c1d559802ec2a\n",
            "  Stored in directory: /root/.cache/pip/wheels/13/c7/b0/79f66658626032e78fc1a83103690ef6797d551cb22e56e734\n",
            "Successfully built langdetect\n",
            "Installing collected packages: langdetect\n",
            "Successfully installed langdetect-1.0.9\n"
          ]
        }
      ]
    },
    {
      "cell_type": "code",
      "metadata": {
        "id": "xYKNb_aOd0QB",
        "colab": {
          "base_uri": "https://localhost:8080/"
        },
        "outputId": "85f08421-a0df-4ca1-b0f0-111eb436be5c"
      },
      "source": [
        "# Import Libraries\n",
        "from textblob import TextBlob\n",
        "import sys\n",
        "import tweepy\n",
        "import matplotlib.pyplot as plt\n",
        "import pandas as pd\n",
        "import numpy as np\n",
        "import os\n",
        "import nltk\n",
        "import pycountry\n",
        "import re\n",
        "import string\n",
        "from wordcloud import WordCloud, STOPWORDS\n",
        "from PIL import Image\n",
        "from nltk.sentiment.vader import SentimentIntensityAnalyzer\n",
        "from langdetect import detect\n",
        "from nltk.stem import SnowballStemmer\n",
        "from nltk.sentiment.vader import SentimentIntensityAnalyzer\n",
        "nltk.download('vader_lexicon')\n",
        "from sklearn.feature_extraction.text import CountVectorizer\n",
        "from google.colab import drive"
      ],
      "execution_count": 2,
      "outputs": [
        {
          "output_type": "stream",
          "name": "stderr",
          "text": [
            "[nltk_data] Downloading package vader_lexicon to /root/nltk_data...\n"
          ]
        }
      ]
    },
    {
      "cell_type": "code",
      "metadata": {
        "colab": {
          "base_uri": "https://localhost:8080/"
        },
        "id": "dpYD6wmlfLaI",
        "outputId": "a59b6372-c9b6-4a02-c33c-259647b637ce"
      },
      "source": [
        "# Mount GDrive\n",
        "drive.mount('/gdrive')\n"
      ],
      "execution_count": 3,
      "outputs": [
        {
          "output_type": "stream",
          "name": "stdout",
          "text": [
            "Mounted at /gdrive\n"
          ]
        }
      ]
    },
    {
      "cell_type": "code",
      "metadata": {
        "colab": {
          "base_uri": "https://localhost:8080/"
        },
        "id": "e55rdVFaBl53",
        "outputId": "9f55fa78-5978-4962-9005-99e072f649d5"
      },
      "source": [
        "os.chdir('/gdrive/MyDrive/Docencia/UV-ML')\n",
        "!ls"
      ],
      "execution_count": 4,
      "outputs": [
        {
          "output_type": "stream",
          "name": "stdout",
          "text": [
            " Clientes_test.csv\n",
            " Clientes_train.csv\n",
            " df_export.xlsx\n",
            "'Ejemplo Análisis de Sentimiento (Twitter).ipynb'\n",
            "'Ejemplo Análisis de Sentimiento v2(Twitter).ipynb'\n",
            "'Ejemplo Clasificación ML.ipynb'\n",
            "'Ejemplo CNN.ipynb'\n",
            "'Ejemplo CNN v2'\n",
            "'Ejemplo Kmeans_con_pca.ipynb'\n",
            "'Ejemplo Red Neuronal.ipynb'\n",
            "'Ejemplo Regresion.ipynb'\n",
            " Zonas.csv\n"
          ]
        }
      ]
    },
    {
      "cell_type": "code",
      "metadata": {
        "id": "DAGJTamid0Sl"
      },
      "source": [
        "# Authentication\n",
        "consumerKey = \"RsXyfMlGtuc8fvRawpntG0AWf\"\n",
        "consumerSecret = \"853aqkKZtWGS3ftbF37TYBEAe0EihNIWORTQXIwF5rzrhooDp1\"\n",
        "accessToken = \"124614074-ZsyiKRjHBBfznU8k2nYa8H9fFUSjmROS8rEpw5J1\"\n",
        "accessTokenSecret = \"LucPICTTmzimUd3NNWqRoNPWROQrmFWi8OjHxK04moVWC\"\n",
        "auth = tweepy.OAuthHandler(consumerKey, consumerSecret)\n",
        "auth.set_access_token(accessToken, accessTokenSecret)\n",
        "api = tweepy.API(auth)"
      ],
      "execution_count": 6,
      "outputs": []
    },
    {
      "cell_type": "code",
      "metadata": {
        "id": "2WMZIHtHd0Vc"
      },
      "source": [
        "#Sentiment Analysis\n",
        "def percentage(part,whole):\n",
        " return 100 * float(part)/float(whole)\n",
        "# parámetros query: https://medium.com/@robguilarr/making-queries-to-twitter-api-on-tweepy-66afeb7184a4\n",
        "# https://plainenglish.io/blog/twitter-sentiment-analysis-using-vader-tweepy-b2a62fba151e\n",
        "keyword = '\"Universidad de Valencia\" OR \"Universitat de València\"'\n",
        "#keyword = '\"@SEFutbol\" OR \"@LUISENRIQUE21\"'\n",
        "#keyword = '@sanchezcastejon'\n",
        "#keyword = '@Spain_AI_'\n",
        "#keyword = \"ropa_ de_segunda_mano OR ropa_casi_nueva\"\n",
        "#keyword = \"@DIA_Esp\"\n",
        "\n",
        "noOfTweet = int(1000)\n",
        "\n",
        "#searchCountry = \"Spain\"\n",
        "#places = api.geo_search(query=searchCountry, granularity=\"country\")\n",
        "#place_id = places[0].id\n",
        "\n",
        "tweets = tweepy.Cursor(api.search, q=(keyword),lang='es' , wait_on_rate_limit=True  ).items(noOfTweet)\n",
        "positive = 0\n",
        "negative = 0\n",
        "neutral = 0\n",
        "polarity = 0\n",
        "tweet_list = []\n",
        "neutral_list = []\n",
        "negative_list = []\n",
        "positive_list = []\n",
        "date_list = []\n",
        "score_list = []\n",
        "user_list =[]\n",
        "location_list =[]\n",
        "sent_list = []\n"
      ],
      "execution_count": 10,
      "outputs": []
    },
    {
      "cell_type": "code",
      "metadata": {
        "id": "KeCK49IdklCH"
      },
      "source": [
        "for tweet in tweets:\n",
        " \n",
        "  #print(tweet.text)\n",
        "  tweet_list.append(tweet.text)\n",
        "  analysis = TextBlob(tweet.text)\n",
        "  score = SentimentIntensityAnalyzer().polarity_scores(tweet.text)\n",
        "  date_list.append(tweet.created_at)\n",
        "  score_list.append(score)\n",
        "  user_list.append(tweet.user.name)\n",
        "  location_list.append(tweet.user.location)\n",
        "\n",
        "  neg = score['neg']\n",
        "  neu = score['neu']\n",
        "  pos = score['pos']\n",
        "  comp = score['compound']\n",
        "  polarity += analysis.sentiment.polarity\n",
        "  \n",
        "  if comp <=-0.05:\n",
        "    sent_list.append(\"negative\")\n",
        "    negative_list.append(tweet.text)\n",
        "    negative += 1\n",
        "  elif comp >=0.05:\n",
        "    sent_list.append(\"postive\")\n",
        "    positive_list.append(tweet.text)\n",
        "    positive += 1\n",
        "  \n",
        "  else:\n",
        "    sent_list.append(\"neutral\")\n",
        "    neutral_list.append(tweet.text)\n",
        "    neutral += 1\n",
        "positive = percentage(positive, noOfTweet)\n",
        "negative = percentage(negative, noOfTweet)\n",
        "neutral = percentage(neutral, noOfTweet)\n",
        "polarity = percentage(polarity, noOfTweet)\n",
        "positive = format(positive, '.1f')\n",
        "negative = format(negative, '.1f')\n",
        "neutral = format(neutral, '.1f')"
      ],
      "execution_count": 11,
      "outputs": []
    },
    {
      "cell_type": "code",
      "metadata": {
        "id": "FKgMZYlpd0Xw",
        "colab": {
          "base_uri": "https://localhost:8080/"
        },
        "outputId": "4260f355-e2e1-45cd-8123-9d6c11bcde41"
      },
      "source": [
        "#Number of Tweets (Total, Positive, Negative, Neutral)\n",
        "tweet_list_2 = pd.DataFrame(tweet_list)\n",
        "neutral_list = pd.DataFrame(neutral_list)\n",
        "negative_list = pd.DataFrame(negative_list)\n",
        "positive_list = pd.DataFrame(positive_list)\n",
        "print(\"total number: \",len(tweet_list_2))\n",
        "print(\"positive number: \",len(positive_list))\n",
        "print(\"negative number: \", len(negative_list))\n",
        "print(\"neutral number: \",len(neutral_list))"
      ],
      "execution_count": 12,
      "outputs": [
        {
          "output_type": "stream",
          "name": "stdout",
          "text": [
            "total number:  1000\n",
            "positive number:  91\n",
            "negative number:  185\n",
            "neutral number:  724\n"
          ]
        }
      ]
    },
    {
      "cell_type": "code",
      "metadata": {
        "id": "CC76FNPkESk7"
      },
      "source": [
        "# tweet_list.to_csv(\"tweet_list.csv\", index=False, sep=\";\")"
      ],
      "execution_count": null,
      "outputs": []
    },
    {
      "cell_type": "code",
      "metadata": {
        "id": "KdEm0-7fAVEV"
      },
      "source": [
        "df_export = pd.DataFrame({\"Tweet\":tweet_list, \"Score\":score_list, \"Sentiment\": sent_list ,\"Date\": date_list, \"User\": user_list, \"Location\": location_list})"
      ],
      "execution_count": 13,
      "outputs": []
    },
    {
      "cell_type": "code",
      "metadata": {
        "id": "uElkp7Uld0aK"
      },
      "source": [
        "#df_export.to_csv(\"df_export.csv\", index=False, sep=\";\", encoding=\"utf-8\")\n",
        "df_export.to_excel(\"df_export.xlsx\")"
      ],
      "execution_count": 14,
      "outputs": []
    },
    {
      "cell_type": "code",
      "metadata": {
        "id": "dkH9VvK-d0cr",
        "colab": {
          "base_uri": "https://localhost:8080/",
          "height": 468
        },
        "outputId": "b847c9af-f9a9-48c8-dad3-c2d3a3e4b0b9"
      },
      "source": [
        "df_export"
      ],
      "execution_count": 15,
      "outputs": [
        {
          "output_type": "execute_result",
          "data": {
            "text/plain": [
              "                                                 Tweet  \\\n",
              "0    @DIA_Esp #PatineteHolaCola    Lo bien que me v...   \n",
              "1    RT @DIA_Esp: ✨ ESPECIAL 100K SEGUIDORES ✨\\n\\n😍...   \n",
              "2    RT @DIA_Esp: ⚽ No pudimos seguir en este Mundi...   \n",
              "3    @DIA_Esp #Dia100K\\nYa está.  Este es el meme\\n...   \n",
              "4    RT @DIA_Esp: Tenemos casi 300 memardos. Pero s...   \n",
              "..                                                 ...   \n",
              "995  RT @DIA_Esp: ⚽ No pudimos seguir en este Mundi...   \n",
              "996  RT @DIA_Esp: ⚽ No pudimos seguir en este Mundi...   \n",
              "997  RT @DIA_Esp: 🛴SORTEO #HOLACOLACUP🛴\\n\\nGana un ...   \n",
              "998  RT @DIA_Esp: ⚽ No pudimos seguir en este Mundi...   \n",
              "999  RT @DIA_Esp: 🛴SORTEO #HOLACOLACUP🛴\\n\\nGana un ...   \n",
              "\n",
              "                                                 Score Sentiment  \\\n",
              "0    {'neg': 0.0, 'neu': 1.0, 'pos': 0.0, 'compound...   neutral   \n",
              "1    {'neg': 0.0, 'neu': 1.0, 'pos': 0.0, 'compound...   neutral   \n",
              "2    {'neg': 0.106, 'neu': 0.894, 'pos': 0.0, 'comp...  negative   \n",
              "3    {'neg': 0.0, 'neu': 1.0, 'pos': 0.0, 'compound...   neutral   \n",
              "4    {'neg': 0.0, 'neu': 1.0, 'pos': 0.0, 'compound...   neutral   \n",
              "..                                                 ...       ...   \n",
              "995  {'neg': 0.106, 'neu': 0.894, 'pos': 0.0, 'comp...  negative   \n",
              "996  {'neg': 0.106, 'neu': 0.894, 'pos': 0.0, 'comp...  negative   \n",
              "997  {'neg': 0.0, 'neu': 1.0, 'pos': 0.0, 'compound...   neutral   \n",
              "998  {'neg': 0.106, 'neu': 0.894, 'pos': 0.0, 'comp...  negative   \n",
              "999  {'neg': 0.0, 'neu': 1.0, 'pos': 0.0, 'compound...   neutral   \n",
              "\n",
              "                   Date               User                        Location  \n",
              "0   2022-12-14 12:29:26      juanillo999 🔻  Campo de estrellas -Compostela  \n",
              "1   2022-12-14 12:20:00            Sólvy 🌃                         she/her  \n",
              "2   2022-12-14 12:18:10   Nofuiyo 📈🌕📉🌍💥💸💀🫣                      En la Luna  \n",
              "3   2022-12-14 12:16:51               MrGG                                  \n",
              "4   2022-12-14 12:16:10            Almu_81                                  \n",
              "..                  ...                ...                             ...  \n",
              "995 2022-12-11 23:44:24               Raki                          He/Him  \n",
              "996 2022-12-11 23:33:48       ༺ 🌏 𝓜𝓪𝔂𝓽𝓮 🌺༻                                  \n",
              "997 2022-12-11 23:04:43  Sergio Gonzalez                          Neptuno  \n",
              "998 2022-12-11 22:50:51          DavidOria                                  \n",
              "999 2022-12-11 22:43:11             Silvia                          Madrid  \n",
              "\n",
              "[1000 rows x 6 columns]"
            ],
            "text/html": [
              "\n",
              "  <div id=\"df-0c49d8dd-5f8c-49d1-b5c0-58234420d675\">\n",
              "    <div class=\"colab-df-container\">\n",
              "      <div>\n",
              "<style scoped>\n",
              "    .dataframe tbody tr th:only-of-type {\n",
              "        vertical-align: middle;\n",
              "    }\n",
              "\n",
              "    .dataframe tbody tr th {\n",
              "        vertical-align: top;\n",
              "    }\n",
              "\n",
              "    .dataframe thead th {\n",
              "        text-align: right;\n",
              "    }\n",
              "</style>\n",
              "<table border=\"1\" class=\"dataframe\">\n",
              "  <thead>\n",
              "    <tr style=\"text-align: right;\">\n",
              "      <th></th>\n",
              "      <th>Tweet</th>\n",
              "      <th>Score</th>\n",
              "      <th>Sentiment</th>\n",
              "      <th>Date</th>\n",
              "      <th>User</th>\n",
              "      <th>Location</th>\n",
              "    </tr>\n",
              "  </thead>\n",
              "  <tbody>\n",
              "    <tr>\n",
              "      <th>0</th>\n",
              "      <td>@DIA_Esp #PatineteHolaCola    Lo bien que me v...</td>\n",
              "      <td>{'neg': 0.0, 'neu': 1.0, 'pos': 0.0, 'compound...</td>\n",
              "      <td>neutral</td>\n",
              "      <td>2022-12-14 12:29:26</td>\n",
              "      <td>juanillo999 🔻</td>\n",
              "      <td>Campo de estrellas -Compostela</td>\n",
              "    </tr>\n",
              "    <tr>\n",
              "      <th>1</th>\n",
              "      <td>RT @DIA_Esp: ✨ ESPECIAL 100K SEGUIDORES ✨\\n\\n😍...</td>\n",
              "      <td>{'neg': 0.0, 'neu': 1.0, 'pos': 0.0, 'compound...</td>\n",
              "      <td>neutral</td>\n",
              "      <td>2022-12-14 12:20:00</td>\n",
              "      <td>Sólvy 🌃</td>\n",
              "      <td>she/her</td>\n",
              "    </tr>\n",
              "    <tr>\n",
              "      <th>2</th>\n",
              "      <td>RT @DIA_Esp: ⚽ No pudimos seguir en este Mundi...</td>\n",
              "      <td>{'neg': 0.106, 'neu': 0.894, 'pos': 0.0, 'comp...</td>\n",
              "      <td>negative</td>\n",
              "      <td>2022-12-14 12:18:10</td>\n",
              "      <td>Nofuiyo 📈🌕📉🌍💥💸💀🫣</td>\n",
              "      <td>En la Luna</td>\n",
              "    </tr>\n",
              "    <tr>\n",
              "      <th>3</th>\n",
              "      <td>@DIA_Esp #Dia100K\\nYa está.  Este es el meme\\n...</td>\n",
              "      <td>{'neg': 0.0, 'neu': 1.0, 'pos': 0.0, 'compound...</td>\n",
              "      <td>neutral</td>\n",
              "      <td>2022-12-14 12:16:51</td>\n",
              "      <td>MrGG</td>\n",
              "      <td></td>\n",
              "    </tr>\n",
              "    <tr>\n",
              "      <th>4</th>\n",
              "      <td>RT @DIA_Esp: Tenemos casi 300 memardos. Pero s...</td>\n",
              "      <td>{'neg': 0.0, 'neu': 1.0, 'pos': 0.0, 'compound...</td>\n",
              "      <td>neutral</td>\n",
              "      <td>2022-12-14 12:16:10</td>\n",
              "      <td>Almu_81</td>\n",
              "      <td></td>\n",
              "    </tr>\n",
              "    <tr>\n",
              "      <th>...</th>\n",
              "      <td>...</td>\n",
              "      <td>...</td>\n",
              "      <td>...</td>\n",
              "      <td>...</td>\n",
              "      <td>...</td>\n",
              "      <td>...</td>\n",
              "    </tr>\n",
              "    <tr>\n",
              "      <th>995</th>\n",
              "      <td>RT @DIA_Esp: ⚽ No pudimos seguir en este Mundi...</td>\n",
              "      <td>{'neg': 0.106, 'neu': 0.894, 'pos': 0.0, 'comp...</td>\n",
              "      <td>negative</td>\n",
              "      <td>2022-12-11 23:44:24</td>\n",
              "      <td>Raki</td>\n",
              "      <td>He/Him</td>\n",
              "    </tr>\n",
              "    <tr>\n",
              "      <th>996</th>\n",
              "      <td>RT @DIA_Esp: ⚽ No pudimos seguir en este Mundi...</td>\n",
              "      <td>{'neg': 0.106, 'neu': 0.894, 'pos': 0.0, 'comp...</td>\n",
              "      <td>negative</td>\n",
              "      <td>2022-12-11 23:33:48</td>\n",
              "      <td>༺ 🌏 𝓜𝓪𝔂𝓽𝓮 🌺༻</td>\n",
              "      <td></td>\n",
              "    </tr>\n",
              "    <tr>\n",
              "      <th>997</th>\n",
              "      <td>RT @DIA_Esp: 🛴SORTEO #HOLACOLACUP🛴\\n\\nGana un ...</td>\n",
              "      <td>{'neg': 0.0, 'neu': 1.0, 'pos': 0.0, 'compound...</td>\n",
              "      <td>neutral</td>\n",
              "      <td>2022-12-11 23:04:43</td>\n",
              "      <td>Sergio Gonzalez </td>\n",
              "      <td>Neptuno</td>\n",
              "    </tr>\n",
              "    <tr>\n",
              "      <th>998</th>\n",
              "      <td>RT @DIA_Esp: ⚽ No pudimos seguir en este Mundi...</td>\n",
              "      <td>{'neg': 0.106, 'neu': 0.894, 'pos': 0.0, 'comp...</td>\n",
              "      <td>negative</td>\n",
              "      <td>2022-12-11 22:50:51</td>\n",
              "      <td>DavidOria</td>\n",
              "      <td></td>\n",
              "    </tr>\n",
              "    <tr>\n",
              "      <th>999</th>\n",
              "      <td>RT @DIA_Esp: 🛴SORTEO #HOLACOLACUP🛴\\n\\nGana un ...</td>\n",
              "      <td>{'neg': 0.0, 'neu': 1.0, 'pos': 0.0, 'compound...</td>\n",
              "      <td>neutral</td>\n",
              "      <td>2022-12-11 22:43:11</td>\n",
              "      <td>Silvia</td>\n",
              "      <td>Madrid</td>\n",
              "    </tr>\n",
              "  </tbody>\n",
              "</table>\n",
              "<p>1000 rows × 6 columns</p>\n",
              "</div>\n",
              "      <button class=\"colab-df-convert\" onclick=\"convertToInteractive('df-0c49d8dd-5f8c-49d1-b5c0-58234420d675')\"\n",
              "              title=\"Convert this dataframe to an interactive table.\"\n",
              "              style=\"display:none;\">\n",
              "        \n",
              "  <svg xmlns=\"http://www.w3.org/2000/svg\" height=\"24px\"viewBox=\"0 0 24 24\"\n",
              "       width=\"24px\">\n",
              "    <path d=\"M0 0h24v24H0V0z\" fill=\"none\"/>\n",
              "    <path d=\"M18.56 5.44l.94 2.06.94-2.06 2.06-.94-2.06-.94-.94-2.06-.94 2.06-2.06.94zm-11 1L8.5 8.5l.94-2.06 2.06-.94-2.06-.94L8.5 2.5l-.94 2.06-2.06.94zm10 10l.94 2.06.94-2.06 2.06-.94-2.06-.94-.94-2.06-.94 2.06-2.06.94z\"/><path d=\"M17.41 7.96l-1.37-1.37c-.4-.4-.92-.59-1.43-.59-.52 0-1.04.2-1.43.59L10.3 9.45l-7.72 7.72c-.78.78-.78 2.05 0 2.83L4 21.41c.39.39.9.59 1.41.59.51 0 1.02-.2 1.41-.59l7.78-7.78 2.81-2.81c.8-.78.8-2.07 0-2.86zM5.41 20L4 18.59l7.72-7.72 1.47 1.35L5.41 20z\"/>\n",
              "  </svg>\n",
              "      </button>\n",
              "      \n",
              "  <style>\n",
              "    .colab-df-container {\n",
              "      display:flex;\n",
              "      flex-wrap:wrap;\n",
              "      gap: 12px;\n",
              "    }\n",
              "\n",
              "    .colab-df-convert {\n",
              "      background-color: #E8F0FE;\n",
              "      border: none;\n",
              "      border-radius: 50%;\n",
              "      cursor: pointer;\n",
              "      display: none;\n",
              "      fill: #1967D2;\n",
              "      height: 32px;\n",
              "      padding: 0 0 0 0;\n",
              "      width: 32px;\n",
              "    }\n",
              "\n",
              "    .colab-df-convert:hover {\n",
              "      background-color: #E2EBFA;\n",
              "      box-shadow: 0px 1px 2px rgba(60, 64, 67, 0.3), 0px 1px 3px 1px rgba(60, 64, 67, 0.15);\n",
              "      fill: #174EA6;\n",
              "    }\n",
              "\n",
              "    [theme=dark] .colab-df-convert {\n",
              "      background-color: #3B4455;\n",
              "      fill: #D2E3FC;\n",
              "    }\n",
              "\n",
              "    [theme=dark] .colab-df-convert:hover {\n",
              "      background-color: #434B5C;\n",
              "      box-shadow: 0px 1px 3px 1px rgba(0, 0, 0, 0.15);\n",
              "      filter: drop-shadow(0px 1px 2px rgba(0, 0, 0, 0.3));\n",
              "      fill: #FFFFFF;\n",
              "    }\n",
              "  </style>\n",
              "\n",
              "      <script>\n",
              "        const buttonEl =\n",
              "          document.querySelector('#df-0c49d8dd-5f8c-49d1-b5c0-58234420d675 button.colab-df-convert');\n",
              "        buttonEl.style.display =\n",
              "          google.colab.kernel.accessAllowed ? 'block' : 'none';\n",
              "\n",
              "        async function convertToInteractive(key) {\n",
              "          const element = document.querySelector('#df-0c49d8dd-5f8c-49d1-b5c0-58234420d675');\n",
              "          const dataTable =\n",
              "            await google.colab.kernel.invokeFunction('convertToInteractive',\n",
              "                                                     [key], {});\n",
              "          if (!dataTable) return;\n",
              "\n",
              "          const docLinkHtml = 'Like what you see? Visit the ' +\n",
              "            '<a target=\"_blank\" href=https://colab.research.google.com/notebooks/data_table.ipynb>data table notebook</a>'\n",
              "            + ' to learn more about interactive tables.';\n",
              "          element.innerHTML = '';\n",
              "          dataTable['output_type'] = 'display_data';\n",
              "          await google.colab.output.renderOutput(dataTable, element);\n",
              "          const docLink = document.createElement('div');\n",
              "          docLink.innerHTML = docLinkHtml;\n",
              "          element.appendChild(docLink);\n",
              "        }\n",
              "      </script>\n",
              "    </div>\n",
              "  </div>\n",
              "  "
            ]
          },
          "metadata": {},
          "execution_count": 15
        }
      ]
    },
    {
      "cell_type": "code",
      "metadata": {
        "colab": {
          "base_uri": "https://localhost:8080/"
        },
        "id": "JMz7o3JICiTg",
        "outputId": "ea3a1414-b98a-4c06-90e2-7b200b87ddf3"
      },
      "source": [
        "tweet\n"
      ],
      "execution_count": null,
      "outputs": [
        {
          "output_type": "execute_result",
          "data": {
            "text/plain": [
              "Status(_api=<tweepy.api.API object at 0x7f123ccb9fd0>, _json={'created_at': 'Wed Dec 14 10:26:30 +0000 2022', 'id': 1602973297641414656, 'id_str': '1602973297641414656', 'text': '@nacho_aledo @SEFutbol @rfef Dice, soy Luis de la Fuente, uniformado con @SEFutbol siendo seleccionador de la Sub 2… https://t.co/2GUEbwoGOP', 'truncated': True, 'entities': {'hashtags': [], 'symbols': [], 'user_mentions': [{'screen_name': 'nacho_aledo', 'name': 'Atletictrainer Castellón', 'id': 1344140292, 'id_str': '1344140292', 'indices': [0, 12]}, {'screen_name': 'SEFutbol', 'name': 'Selección Española de Fútbol', 'id': 1139001474, 'id_str': '1139001474', 'indices': [13, 22]}, {'screen_name': 'rfef', 'name': 'RFEF', 'id': 137415452, 'id_str': '137415452', 'indices': [23, 28]}, {'screen_name': 'SEFutbol', 'name': 'Selección Española de Fútbol', 'id': 1139001474, 'id_str': '1139001474', 'indices': [73, 82]}], 'urls': [{'url': 'https://t.co/2GUEbwoGOP', 'expanded_url': 'https://twitter.com/i/web/status/1602973297641414656', 'display_url': 'twitter.com/i/web/status/1…', 'indices': [117, 140]}]}, 'metadata': {'iso_language_code': 'es', 'result_type': 'recent'}, 'source': '<a href=\"https://mobile.twitter.com\" rel=\"nofollow\">Twitter Web App</a>', 'in_reply_to_status_id': 1602972135810547712, 'in_reply_to_status_id_str': '1602972135810547712', 'in_reply_to_user_id': 1344140292, 'in_reply_to_user_id_str': '1344140292', 'in_reply_to_screen_name': 'nacho_aledo', 'user': {'id': 872835984836227073, 'id_str': '872835984836227073', 'name': 'TrailAndalucia', 'screen_name': 'TrailAndalucia', 'location': '', 'description': 'Si quieres seguir lo que pasa en el mundo del Trail Running en Andalucía, Síguenos en https://t.co/RmuaqMsrrV', 'url': 'https://t.co/vIjm3YR5mg', 'entities': {'url': {'urls': [{'url': 'https://t.co/vIjm3YR5mg', 'expanded_url': 'https://trailrunningandalucia.com/', 'display_url': 'trailrunningandalucia.com', 'indices': [0, 23]}]}, 'description': {'urls': [{'url': 'https://t.co/RmuaqMsrrV', 'expanded_url': 'http://trailrunningandalucia.com', 'display_url': 'trailrunningandalucia.com', 'indices': [86, 109]}]}}, 'protected': False, 'followers_count': 3284, 'friends_count': 1184, 'listed_count': 36, 'created_at': 'Thu Jun 08 15:21:30 +0000 2017', 'favourites_count': 26173, 'utc_offset': None, 'time_zone': None, 'geo_enabled': False, 'verified': False, 'statuses_count': 20029, 'lang': None, 'contributors_enabled': False, 'is_translator': False, 'is_translation_enabled': False, 'profile_background_color': 'F5F8FA', 'profile_background_image_url': None, 'profile_background_image_url_https': None, 'profile_background_tile': False, 'profile_image_url': 'http://pbs.twimg.com/profile_images/1595494047849873410/cmGsr6A1_normal.jpg', 'profile_image_url_https': 'https://pbs.twimg.com/profile_images/1595494047849873410/cmGsr6A1_normal.jpg', 'profile_banner_url': 'https://pbs.twimg.com/profile_banners/872835984836227073/1557850622', 'profile_link_color': '1DA1F2', 'profile_sidebar_border_color': 'C0DEED', 'profile_sidebar_fill_color': 'DDEEF6', 'profile_text_color': '333333', 'profile_use_background_image': True, 'has_extended_profile': True, 'default_profile': True, 'default_profile_image': False, 'following': False, 'follow_request_sent': False, 'notifications': False, 'translator_type': 'none', 'withheld_in_countries': []}, 'geo': None, 'coordinates': None, 'place': None, 'contributors': None, 'is_quote_status': False, 'retweet_count': 0, 'favorite_count': 0, 'favorited': False, 'retweeted': False, 'lang': 'es'}, created_at=datetime.datetime(2022, 12, 14, 10, 26, 30), id=1602973297641414656, id_str='1602973297641414656', text='@nacho_aledo @SEFutbol @rfef Dice, soy Luis de la Fuente, uniformado con @SEFutbol siendo seleccionador de la Sub 2… https://t.co/2GUEbwoGOP', truncated=True, entities={'hashtags': [], 'symbols': [], 'user_mentions': [{'screen_name': 'nacho_aledo', 'name': 'Atletictrainer Castellón', 'id': 1344140292, 'id_str': '1344140292', 'indices': [0, 12]}, {'screen_name': 'SEFutbol', 'name': 'Selección Española de Fútbol', 'id': 1139001474, 'id_str': '1139001474', 'indices': [13, 22]}, {'screen_name': 'rfef', 'name': 'RFEF', 'id': 137415452, 'id_str': '137415452', 'indices': [23, 28]}, {'screen_name': 'SEFutbol', 'name': 'Selección Española de Fútbol', 'id': 1139001474, 'id_str': '1139001474', 'indices': [73, 82]}], 'urls': [{'url': 'https://t.co/2GUEbwoGOP', 'expanded_url': 'https://twitter.com/i/web/status/1602973297641414656', 'display_url': 'twitter.com/i/web/status/1…', 'indices': [117, 140]}]}, metadata={'iso_language_code': 'es', 'result_type': 'recent'}, source='Twitter Web App', source_url='https://mobile.twitter.com', in_reply_to_status_id=1602972135810547712, in_reply_to_status_id_str='1602972135810547712', in_reply_to_user_id=1344140292, in_reply_to_user_id_str='1344140292', in_reply_to_screen_name='nacho_aledo', author=User(_api=<tweepy.api.API object at 0x7f123ccb9fd0>, _json={'id': 872835984836227073, 'id_str': '872835984836227073', 'name': 'TrailAndalucia', 'screen_name': 'TrailAndalucia', 'location': '', 'description': 'Si quieres seguir lo que pasa en el mundo del Trail Running en Andalucía, Síguenos en https://t.co/RmuaqMsrrV', 'url': 'https://t.co/vIjm3YR5mg', 'entities': {'url': {'urls': [{'url': 'https://t.co/vIjm3YR5mg', 'expanded_url': 'https://trailrunningandalucia.com/', 'display_url': 'trailrunningandalucia.com', 'indices': [0, 23]}]}, 'description': {'urls': [{'url': 'https://t.co/RmuaqMsrrV', 'expanded_url': 'http://trailrunningandalucia.com', 'display_url': 'trailrunningandalucia.com', 'indices': [86, 109]}]}}, 'protected': False, 'followers_count': 3284, 'friends_count': 1184, 'listed_count': 36, 'created_at': 'Thu Jun 08 15:21:30 +0000 2017', 'favourites_count': 26173, 'utc_offset': None, 'time_zone': None, 'geo_enabled': False, 'verified': False, 'statuses_count': 20029, 'lang': None, 'contributors_enabled': False, 'is_translator': False, 'is_translation_enabled': False, 'profile_background_color': 'F5F8FA', 'profile_background_image_url': None, 'profile_background_image_url_https': None, 'profile_background_tile': False, 'profile_image_url': 'http://pbs.twimg.com/profile_images/1595494047849873410/cmGsr6A1_normal.jpg', 'profile_image_url_https': 'https://pbs.twimg.com/profile_images/1595494047849873410/cmGsr6A1_normal.jpg', 'profile_banner_url': 'https://pbs.twimg.com/profile_banners/872835984836227073/1557850622', 'profile_link_color': '1DA1F2', 'profile_sidebar_border_color': 'C0DEED', 'profile_sidebar_fill_color': 'DDEEF6', 'profile_text_color': '333333', 'profile_use_background_image': True, 'has_extended_profile': True, 'default_profile': True, 'default_profile_image': False, 'following': False, 'follow_request_sent': False, 'notifications': False, 'translator_type': 'none', 'withheld_in_countries': []}, id=872835984836227073, id_str='872835984836227073', name='TrailAndalucia', screen_name='TrailAndalucia', location='', description='Si quieres seguir lo que pasa en el mundo del Trail Running en Andalucía, Síguenos en https://t.co/RmuaqMsrrV', url='https://t.co/vIjm3YR5mg', entities={'url': {'urls': [{'url': 'https://t.co/vIjm3YR5mg', 'expanded_url': 'https://trailrunningandalucia.com/', 'display_url': 'trailrunningandalucia.com', 'indices': [0, 23]}]}, 'description': {'urls': [{'url': 'https://t.co/RmuaqMsrrV', 'expanded_url': 'http://trailrunningandalucia.com', 'display_url': 'trailrunningandalucia.com', 'indices': [86, 109]}]}}, protected=False, followers_count=3284, friends_count=1184, listed_count=36, created_at=datetime.datetime(2017, 6, 8, 15, 21, 30), favourites_count=26173, utc_offset=None, time_zone=None, geo_enabled=False, verified=False, statuses_count=20029, lang=None, contributors_enabled=False, is_translator=False, is_translation_enabled=False, profile_background_color='F5F8FA', profile_background_image_url=None, profile_background_image_url_https=None, profile_background_tile=False, profile_image_url='http://pbs.twimg.com/profile_images/1595494047849873410/cmGsr6A1_normal.jpg', profile_image_url_https='https://pbs.twimg.com/profile_images/1595494047849873410/cmGsr6A1_normal.jpg', profile_banner_url='https://pbs.twimg.com/profile_banners/872835984836227073/1557850622', profile_link_color='1DA1F2', profile_sidebar_border_color='C0DEED', profile_sidebar_fill_color='DDEEF6', profile_text_color='333333', profile_use_background_image=True, has_extended_profile=True, default_profile=True, default_profile_image=False, following=False, follow_request_sent=False, notifications=False, translator_type='none', withheld_in_countries=[]), user=User(_api=<tweepy.api.API object at 0x7f123ccb9fd0>, _json={'id': 872835984836227073, 'id_str': '872835984836227073', 'name': 'TrailAndalucia', 'screen_name': 'TrailAndalucia', 'location': '', 'description': 'Si quieres seguir lo que pasa en el mundo del Trail Running en Andalucía, Síguenos en https://t.co/RmuaqMsrrV', 'url': 'https://t.co/vIjm3YR5mg', 'entities': {'url': {'urls': [{'url': 'https://t.co/vIjm3YR5mg', 'expanded_url': 'https://trailrunningandalucia.com/', 'display_url': 'trailrunningandalucia.com', 'indices': [0, 23]}]}, 'description': {'urls': [{'url': 'https://t.co/RmuaqMsrrV', 'expanded_url': 'http://trailrunningandalucia.com', 'display_url': 'trailrunningandalucia.com', 'indices': [86, 109]}]}}, 'protected': False, 'followers_count': 3284, 'friends_count': 1184, 'listed_count': 36, 'created_at': 'Thu Jun 08 15:21:30 +0000 2017', 'favourites_count': 26173, 'utc_offset': None, 'time_zone': None, 'geo_enabled': False, 'verified': False, 'statuses_count': 20029, 'lang': None, 'contributors_enabled': False, 'is_translator': False, 'is_translation_enabled': False, 'profile_background_color': 'F5F8FA', 'profile_background_image_url': None, 'profile_background_image_url_https': None, 'profile_background_tile': False, 'profile_image_url': 'http://pbs.twimg.com/profile_images/1595494047849873410/cmGsr6A1_normal.jpg', 'profile_image_url_https': 'https://pbs.twimg.com/profile_images/1595494047849873410/cmGsr6A1_normal.jpg', 'profile_banner_url': 'https://pbs.twimg.com/profile_banners/872835984836227073/1557850622', 'profile_link_color': '1DA1F2', 'profile_sidebar_border_color': 'C0DEED', 'profile_sidebar_fill_color': 'DDEEF6', 'profile_text_color': '333333', 'profile_use_background_image': True, 'has_extended_profile': True, 'default_profile': True, 'default_profile_image': False, 'following': False, 'follow_request_sent': False, 'notifications': False, 'translator_type': 'none', 'withheld_in_countries': []}, id=872835984836227073, id_str='872835984836227073', name='TrailAndalucia', screen_name='TrailAndalucia', location='', description='Si quieres seguir lo que pasa en el mundo del Trail Running en Andalucía, Síguenos en https://t.co/RmuaqMsrrV', url='https://t.co/vIjm3YR5mg', entities={'url': {'urls': [{'url': 'https://t.co/vIjm3YR5mg', 'expanded_url': 'https://trailrunningandalucia.com/', 'display_url': 'trailrunningandalucia.com', 'indices': [0, 23]}]}, 'description': {'urls': [{'url': 'https://t.co/RmuaqMsrrV', 'expanded_url': 'http://trailrunningandalucia.com', 'display_url': 'trailrunningandalucia.com', 'indices': [86, 109]}]}}, protected=False, followers_count=3284, friends_count=1184, listed_count=36, created_at=datetime.datetime(2017, 6, 8, 15, 21, 30), favourites_count=26173, utc_offset=None, time_zone=None, geo_enabled=False, verified=False, statuses_count=20029, lang=None, contributors_enabled=False, is_translator=False, is_translation_enabled=False, profile_background_color='F5F8FA', profile_background_image_url=None, profile_background_image_url_https=None, profile_background_tile=False, profile_image_url='http://pbs.twimg.com/profile_images/1595494047849873410/cmGsr6A1_normal.jpg', profile_image_url_https='https://pbs.twimg.com/profile_images/1595494047849873410/cmGsr6A1_normal.jpg', profile_banner_url='https://pbs.twimg.com/profile_banners/872835984836227073/1557850622', profile_link_color='1DA1F2', profile_sidebar_border_color='C0DEED', profile_sidebar_fill_color='DDEEF6', profile_text_color='333333', profile_use_background_image=True, has_extended_profile=True, default_profile=True, default_profile_image=False, following=False, follow_request_sent=False, notifications=False, translator_type='none', withheld_in_countries=[]), geo=None, coordinates=None, place=None, contributors=None, is_quote_status=False, retweet_count=0, favorite_count=0, favorited=False, retweeted=False, lang='es')"
            ]
          },
          "metadata": {},
          "execution_count": 19
        }
      ]
    }
  ]
}